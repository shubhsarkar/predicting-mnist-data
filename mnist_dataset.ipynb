{
 "cells": [
  {
   "cell_type": "markdown",
   "id": "ec39f472-5385-403b-9dfe-c4b566bcbd8a",
   "metadata": {},
   "source": [
    "#### Importing libraries"
   ]
  },
  {
   "cell_type": "code",
   "execution_count": 1,
   "id": "05f85314-c711-4140-9453-ae86fdcf64ca",
   "metadata": {},
   "outputs": [],
   "source": [
    "import numpy as np\n",
    "import matplotlib.pyplot as plt\n",
    "import os\n",
    "import cv2\n",
    "import random"
   ]
  },
  {
   "cell_type": "code",
   "execution_count": 2,
   "id": "dd0b5e68-9651-4095-8644-b55526408733",
   "metadata": {},
   "outputs": [],
   "source": [
    "DATADIR = \"./mnist/trainingSet\"\n",
    "CATEGORIES = [\"0\",\"1\",\"2\",\"3\",\"4\",\"5\",\"6\",\"7\",\"8\",\"9\"]"
   ]
  },
  {
   "cell_type": "markdown",
   "id": "9293d1be-c7bc-456d-9321-8ec24d5c525e",
   "metadata": {},
   "source": [
    "#### Reading training data"
   ]
  },
  {
   "cell_type": "code",
   "execution_count": 3,
   "id": "f5c80f52-d117-4606-9e20-016992c57f2c",
   "metadata": {},
   "outputs": [],
   "source": [
    "training_data = []\n",
    "for category in CATEGORIES:\n",
    "        path = os.path.join(DATADIR,category) \n",
    "        class_num = CATEGORIES.index(category)\n",
    "        for img in os.listdir(path):\n",
    "            try:\n",
    "                img_array = cv2.imread(os.path.join(path,img) ,cv2.IMREAD_GRAYSCALE)\n",
    "                training_data.append([img_array, class_num])\n",
    "            except Exception as e:\n",
    "                print(e)"
   ]
  },
  {
   "cell_type": "code",
   "execution_count": 4,
   "id": "fb74846d-1852-4056-adba-f38738744392",
   "metadata": {},
   "outputs": [
    {
     "data": {
      "text/plain": [
       "(28, 28)"
      ]
     },
     "execution_count": 4,
     "metadata": {},
     "output_type": "execute_result"
    }
   ],
   "source": [
    "training_data[0][0].shape"
   ]
  },
  {
   "cell_type": "code",
   "execution_count": 5,
   "id": "b50bc60e-8e93-49b5-8c1a-23ffe97bd0c4",
   "metadata": {},
   "outputs": [
    {
     "data": {
      "text/plain": [
       "42000"
      ]
     },
     "execution_count": 5,
     "metadata": {},
     "output_type": "execute_result"
    }
   ],
   "source": [
    "len(training_data)"
   ]
  },
  {
   "cell_type": "code",
   "execution_count": 6,
   "id": "346a9322-c0c0-4cda-9f3e-14660fb31cf6",
   "metadata": {},
   "outputs": [],
   "source": [
    "#random.shuffle(training_data)"
   ]
  },
  {
   "cell_type": "markdown",
   "id": "a75ae3ba-d999-459c-839c-99644173afe4",
   "metadata": {},
   "source": [
    "#### Creating model and layers"
   ]
  },
  {
   "cell_type": "code",
   "execution_count": 6,
   "id": "86f81c53-f551-4ddc-814d-380f885bd078",
   "metadata": {},
   "outputs": [],
   "source": [
    "from keras.layers import Dense, Conv2D, AveragePooling2D, Flatten\n",
    "from keras.models import Sequential\n",
    "\n",
    "model = Sequential()\n",
    "\n",
    "model.add(Conv2D(filters = 4, kernel_size = (5,5), activation='relu' , input_shape = (28,28,1)))\n",
    "model.add(AveragePooling2D(pool_size = (2,2)))\n",
    "\n",
    "model.add(Conv2D(filters = 4, kernel_size = (7,7), activation='relu'))\n",
    "model.add(AveragePooling2D(pool_size = (2,2)))\n",
    "\n",
    "model.add(Flatten())\n",
    "model.add(Dense(units = 10, activation = 'softmax'))\n",
    "\n",
    "model.compile(loss = 'sparse_categorical_crossentropy', optimizer = 'adam', metrics = ['acc'])"
   ]
  },
  {
   "cell_type": "code",
   "execution_count": 7,
   "id": "a019c613-87b8-4335-8e3c-355227cad8aa",
   "metadata": {},
   "outputs": [
    {
     "name": "stdout",
     "output_type": "stream",
     "text": [
      "Model: \"sequential\"\n",
      "_________________________________________________________________\n",
      "Layer (type)                 Output Shape              Param #   \n",
      "=================================================================\n",
      "conv2d (Conv2D)              (None, 24, 24, 4)         104       \n",
      "_________________________________________________________________\n",
      "average_pooling2d (AveragePo (None, 12, 12, 4)         0         \n",
      "_________________________________________________________________\n",
      "conv2d_1 (Conv2D)            (None, 6, 6, 4)           788       \n",
      "_________________________________________________________________\n",
      "average_pooling2d_1 (Average (None, 3, 3, 4)           0         \n",
      "_________________________________________________________________\n",
      "flatten (Flatten)            (None, 36)                0         \n",
      "_________________________________________________________________\n",
      "dense (Dense)                (None, 10)                370       \n",
      "=================================================================\n",
      "Total params: 1,262\n",
      "Trainable params: 1,262\n",
      "Non-trainable params: 0\n",
      "_________________________________________________________________\n"
     ]
    }
   ],
   "source": [
    "model.summary()"
   ]
  },
  {
   "cell_type": "markdown",
   "id": "acab32bd-b62d-454b-bf8f-0c001c553eea",
   "metadata": {},
   "source": [
    "#### Separating X_train and y_train values"
   ]
  },
  {
   "cell_type": "code",
   "execution_count": 8,
   "id": "8f24c710-1316-45c3-982c-3fa5b07a4ec0",
   "metadata": {},
   "outputs": [],
   "source": [
    "X_train = []\n",
    "y_train = []\n",
    "for feature, label in training_data:\n",
    "    X_train.append(feature)\n",
    "    y_train.append(label)\n",
    "X_train = np.array(X_train).reshape(-1,28,28,1)\n",
    "y_train = np.array(y_train)"
   ]
  },
  {
   "cell_type": "code",
   "execution_count": 9,
   "id": "b536650f-5c56-4994-ab05-7fa1685afdac",
   "metadata": {},
   "outputs": [
    {
     "name": "stdout",
     "output_type": "stream",
     "text": [
      "<class 'numpy.ndarray'> <class 'numpy.ndarray'>\n"
     ]
    }
   ],
   "source": [
    "print(type(X_train), type(y_train))"
   ]
  },
  {
   "cell_type": "code",
   "execution_count": 10,
   "id": "c4d8a6ea-d4aa-4119-9870-7a496473ef06",
   "metadata": {},
   "outputs": [
    {
     "data": {
      "text/plain": [
       "(42000, 28, 28, 1)"
      ]
     },
     "execution_count": 10,
     "metadata": {},
     "output_type": "execute_result"
    }
   ],
   "source": [
    "X_train.shape"
   ]
  },
  {
   "cell_type": "markdown",
   "id": "90508d1e-d09b-424f-aafd-2552621cf877",
   "metadata": {},
   "source": [
    "#### Checking the training data with random values"
   ]
  },
  {
   "cell_type": "code",
   "execution_count": 11,
   "id": "48dd89af-0aba-4754-826a-3236e3b08571",
   "metadata": {},
   "outputs": [
    {
     "name": "stdout",
     "output_type": "stream",
     "text": [
      "10976\n"
     ]
    }
   ],
   "source": [
    "value1 = random.randint(0,42000)\n",
    "print(value1)"
   ]
  },
  {
   "cell_type": "code",
   "execution_count": 12,
   "id": "8f5c2f33-cbd3-46ad-b82f-b78a6e179f1b",
   "metadata": {},
   "outputs": [
    {
     "data": {
      "image/png": "[encoded data removed]",
      "text/plain": [
       "<Figure size 432x288 with 1 Axes>"
      ]
     },
     "metadata": {
      "needs_background": "light"
     },
     "output_type": "display_data"
    }
   ],
   "source": [
    "plt.imshow(X_train[value1])\n",
    "plt.title(y_train[value1])\n",
    "plt.show()"
   ]
  },
  {
   "cell_type": "code",
   "execution_count": 13,
   "id": "0a9e21b6-7a6c-43f0-9e10-a951076717ff",
   "metadata": {},
   "outputs": [
    {
     "name": "stdout",
     "output_type": "stream",
     "text": [
      "4660\n"
     ]
    }
   ],
   "source": [
    "value2 = random.randint(0,42000)\n",
    "print(value2)"
   ]
  },
  {
   "cell_type": "code",
   "execution_count": 14,
   "id": "989e1a6e-df25-4999-86f7-1ef2c43fe6a7",
   "metadata": {},
   "outputs": [
    {
     "data": {
      "image/png": "[encoded data removed]",
      "text/plain": [
       "<Figure size 432x288 with 1 Axes>"
      ]
     },
     "metadata": {
      "needs_background": "light"
     },
     "output_type": "display_data"
    }
   ],
   "source": [
    "plt.imshow(X_train[value2])\n",
    "plt.title(y_train[value2])\n",
    "plt.show()"
   ]
  },
  {
   "cell_type": "markdown",
   "id": "27a65c1c-49ad-4a27-87e6-631e06eeccc6",
   "metadata": {},
   "source": [
    "#### Fitting the model"
   ]
  },
  {
   "cell_type": "code",
   "execution_count": 15,
   "id": "af20c2ce-3a2d-45f3-891f-ef8589b1360c",
   "metadata": {},
   "outputs": [
    {
     "name": "stdout",
     "output_type": "stream",
     "text": [
      "42000/42000 [==============================] - 139s 3ms/step - loss: 0.8289 - acc: 0.7515 2s - loss: 0.8361 - acc: 0.749 - \n"
     ]
    },
    {
     "data": {
      "text/plain": [
       "<keras.callbacks.History at 0x1c666b56fa0>"
      ]
     },
     "execution_count": 15,
     "metadata": {},
     "output_type": "execute_result"
    }
   ],
   "source": [
    "model.fit(X_train, y_train, epochs = 1, batch_size = 1)"
   ]
  },
  {
   "cell_type": "markdown",
   "id": "de2aefee-c91c-45c2-a24b-aaf396d2aafe",
   "metadata": {},
   "source": [
    "#### Reading test data"
   ]
  },
  {
   "cell_type": "code",
   "execution_count": 16,
   "id": "dd709afe-72b4-451d-855a-a355400e8cee",
   "metadata": {},
   "outputs": [],
   "source": [
    "X_test = []\n",
    "TESTDATADIR = \"./mnist/testSample\"\n",
    "for img in os.listdir(TESTDATADIR):\n",
    "        try:\n",
    "            img_array = cv2.imread(os.path.join(TESTDATADIR,img) ,cv2.IMREAD_GRAYSCALE)\n",
    "            X_test.append(img_array)\n",
    "        except Exception as e:\n",
    "            print(e)"
   ]
  },
  {
   "cell_type": "code",
   "execution_count": 17,
   "id": "934d5391-ba55-4004-9bf6-40739118dbfd",
   "metadata": {},
   "outputs": [
    {
     "data": {
      "text/plain": [
       "350"
      ]
     },
     "execution_count": 17,
     "metadata": {},
     "output_type": "execute_result"
    }
   ],
   "source": [
    "len(X_test)"
   ]
  },
  {
   "cell_type": "code",
   "execution_count": 18,
   "id": "96002bdd-aeef-4a48-b1b7-94c0b7d7cf60",
   "metadata": {},
   "outputs": [],
   "source": [
    "X_test = np.array(X_test)"
   ]
  },
  {
   "cell_type": "code",
   "execution_count": 19,
   "id": "fd698d17-4ede-49a8-bcd3-b2b6d023debc",
   "metadata": {},
   "outputs": [
    {
     "data": {
      "text/plain": [
       "(350, 28, 28)"
      ]
     },
     "execution_count": 19,
     "metadata": {},
     "output_type": "execute_result"
    }
   ],
   "source": [
    "X_test.shape"
   ]
  },
  {
   "cell_type": "markdown",
   "id": "2e26431c-d740-496e-b11e-7115ad3127ce",
   "metadata": {},
   "source": [
    "#### Checking test data and predicting the values"
   ]
  },
  {
   "cell_type": "code",
   "execution_count": 29,
   "id": "9ed3111f-a5a5-4467-ba02-0e830fc837a3",
   "metadata": {},
   "outputs": [
    {
     "name": "stdout",
     "output_type": "stream",
     "text": [
      "295\n"
     ]
    }
   ],
   "source": [
    "test1 = random.randint(0,350)\n",
    "print(test1)"
   ]
  },
  {
   "cell_type": "code",
   "execution_count": 30,
   "id": "84d42bd3-3b7b-486d-9883-d1652ea64216",
   "metadata": {},
   "outputs": [
    {
     "data": {
      "text/plain": [
       "<matplotlib.image.AxesImage at 0x1c666fc5790>"
      ]
     },
     "execution_count": 30,
     "metadata": {},
     "output_type": "execute_result"
    },
    {
     "data": {
      "image/png": "[encoded data removed]",
      "text/plain": [
       "<Figure size 432x288 with 1 Axes>"
      ]
     },
     "metadata": {
      "needs_background": "light"
     },
     "output_type": "display_data"
    }
   ],
   "source": [
    "plt.imshow(X_test[test1])"
   ]
  },
  {
   "cell_type": "code",
   "execution_count": 32,
   "id": "6b99d99e-f1cb-4206-ab67-8ed33dc4584f",
   "metadata": {},
   "outputs": [
    {
     "data": {
      "text/plain": [
       "array([3], dtype=int64)"
      ]
     },
     "execution_count": 32,
     "metadata": {},
     "output_type": "execute_result"
    }
   ],
   "source": [
    "test1 = X_test[test1].reshape(-1,28,28,1)\n",
    "model.predict_classes(test1)"
   ]
  },
  {
   "cell_type": "code",
   "execution_count": 35,
   "id": "f2ad5aa9-1563-42ea-83fc-276a79b9a106",
   "metadata": {},
   "outputs": [
    {
     "name": "stdout",
     "output_type": "stream",
     "text": [
      "73\n"
     ]
    }
   ],
   "source": [
    "test2 = random.randint(0,350)\n",
    "print(test2)"
   ]
  },
  {
   "cell_type": "code",
   "execution_count": 36,
   "id": "9e314e38-607f-4ded-8465-0b6869300e30",
   "metadata": {},
   "outputs": [
    {
     "data": {
      "text/plain": [
       "<matplotlib.image.AxesImage at 0x1c666b4ef10>"
      ]
     },
     "execution_count": 36,
     "metadata": {},
     "output_type": "execute_result"
    },
    {
     "data": {
      "image/png": "[encoded data removed]",
      "text/plain": [
       "<Figure size 432x288 with 1 Axes>"
      ]
     },
     "metadata": {
      "needs_background": "light"
     },
     "output_type": "display_data"
    }
   ],
   "source": [
    "plt.imshow(X_test[test2])"
   ]
  },
  {
   "cell_type": "code",
   "execution_count": 37,
   "id": "34145bf0-11d9-4f94-a5c0-d73eb892c07b",
   "metadata": {},
   "outputs": [
    {
     "data": {
      "text/plain": [
       "array([1], dtype=int64)"
      ]
     },
     "execution_count": 37,
     "metadata": {},
     "output_type": "execute_result"
    }
   ],
   "source": [
    "test2 = X_test[test2].reshape(-1,28,28,1)\n",
    "model.predict_classes(test2)"
   ]
  }
 ],
 "metadata": {
  "kernelspec": {
   "display_name": "Python 3",
   "language": "python",
   "name": "python3"
  },
  "language_info": {
   "codemirror_mode": {
    "name": "ipython",
    "version": 3
   },
   "file_extension": ".py",
   "mimetype": "text/x-python",
   "name": "python",
   "nbconvert_exporter": "python",
   "pygments_lexer": "ipython3",
   "version": "3.9.4"
  }
 },
 "nbformat": 4,
 "nbformat_minor": 5
}
